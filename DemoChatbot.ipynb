{
 "cells": [
  {
   "cell_type": "markdown",
   "id": "91fb9d17",
   "metadata": {},
   "source": [
    "## A rule-based Chatbot\n",
    "\n",
    "* Rule-based chatbots or decision-tree bots use a series of defined rules. The types of problems the chatbot is familiar with and can deliver solutions for are based on those rules. Rule-based chatbots map out conversations like a flowchart."
   ]
  },
  {
   "cell_type": "code",
   "execution_count": 1,
   "id": "675b8f8c",
   "metadata": {},
   "outputs": [],
   "source": [
    "import nltk\n",
    "from nltk.chat.util import Chat, reflections"
   ]
  },
  {
   "cell_type": "code",
   "execution_count": null,
   "id": "b8f8563b",
   "metadata": {},
   "outputs": [
    {
     "name": "stdout",
     "output_type": "stream",
     "text": [
      "You: hi\n",
      "Chatbot: Hello!\n",
      "You: hello\n",
      "Chatbot: Hi there!\n",
      "You: how are you?\n",
      "Chatbot: I am doing well, thank you!\n",
      "You: dhhh\n",
      "Chatbot: I did not understand what you said, can you please repeat that?\n",
      "You: Ok\n",
      "Chatbot: I did not understand what you said, can you please repeat that?\n",
      "You: Goodbye\n",
      "Chatbot: I did not understand what you said, can you please repeat that?\n",
      "You: Goodbye!\n",
      "Chatbot: I did not understand what you said, can you please repeat that?\n",
      "You: bye\n",
      "Chatbot: Goodbye!\n"
     ]
    }
   ],
   "source": [
    "# Define some rules\n",
    "rules = {\n",
    "    'hi': 'Hello!',\n",
    "    'hello': 'Hi there!',\n",
    "    'how are you?': 'I am doing well, thank you!',\n",
    "    'bye': 'Goodbye!',\n",
    "    'default': 'I did not understand what you said, can you please repeat that?'\n",
    "}\n",
    "\n",
    "# Define the chatbot function\n",
    "def chatbot():\n",
    "    while True:\n",
    "        user_input = input('You: ')\n",
    "        if user_input.lower() in rules:\n",
    "            print('Chatbot:', rules[user_input.lower()])\n",
    "        else:\n",
    "            print('Chatbot:', rules['default'])\n",
    "\n",
    "# Run the chatbot function\n",
    "chatbot()\n"
   ]
  },
  {
   "cell_type": "code",
   "execution_count": null,
   "id": "92fa3816",
   "metadata": {},
   "outputs": [],
   "source": []
  }
 ],
 "metadata": {
  "kernelspec": {
   "display_name": "Python 3 (ipykernel)",
   "language": "python",
   "name": "python3"
  },
  "language_info": {
   "codemirror_mode": {
    "name": "ipython",
    "version": 3
   },
   "file_extension": ".py",
   "mimetype": "text/x-python",
   "name": "python",
   "nbconvert_exporter": "python",
   "pygments_lexer": "ipython3",
   "version": "3.9.12"
  }
 },
 "nbformat": 4,
 "nbformat_minor": 5
}
